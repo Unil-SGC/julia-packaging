{
 "cells": [
  {
   "cell_type": "markdown",
   "metadata": {},
   "source": [
    "# Iceflow solver\n",
    "\n",
    "### Set up Julia environment"
   ]
  },
  {
   "cell_type": "code",
   "execution_count": null,
   "metadata": {},
   "outputs": [],
   "source": [
    "# activate the environment\n",
    "using Pkg\n",
    "Pkg.activate(\"./\")\n",
    "Pkg.instantiate()\n",
    "# activate packages to use\n",
    "using Printf, CairoMakie"
   ]
  },
  {
   "cell_type": "markdown",
   "metadata": {},
   "source": [
    "### Create data: generate the bedrock elevation `B` and the equilibrium line altitude `ELA` data for a given grid resolutions `nx, ny`."
   ]
  },
  {
   "cell_type": "code",
   "execution_count": null,
   "metadata": {},
   "outputs": [],
   "source": [
    "# constants\n",
    "const s2yr = 31557600 # seconds to years\n",
    "# physics\n",
    "lx, ly = 250000.0, 200000.0  # domain size [m]\n",
    "β      = 0.01                # mass-balance slope (data)\n",
    "c      = 2.0                 # mass-balance limiter\n",
    "ρg     = 910.0 * 9.81        # ice density x gravity\n",
    "a1     = 1.9e-24 * ρg^3 * s2yr\n",
    "a2     = 5.7e-20 * ρg^3 * s2yr\n",
    "B0     = 3500.0              # mean height [m]\n",
    "# numerics\n",
    "nx, ny = 256, 256            # grid resolution\n",
    "dx, dy = lx / nx, ly / ny    # grid spacing\n",
    "nt     = 1e4                 # number of time steps\n",
    "dt     = 0.1                 # time step [yr]\n",
    "nout   = 1e3                 # visu and error checking interval\n",
    "ϵ      = 1e-4                # steady state tolerance\n",
    "# initial conditions (data)\n",
    "xc     = LinRange(-lx / 2 + dx / 2, lx / 2 - dx / 2, nx)\n",
    "yc     = LinRange(-ly / 2 + dy / 2, ly / 2 - dy / 2, ny)\n",
    "Xc, Yc = [x for x = xc, y = yc], [y for x = xc, y = yc]\n",
    "B      = zeros(nx, ny)\n",
    "ELA    = zeros(nx, ny)\n",
    "@. B   = B0 * exp(-Xc^2 / 1e10 - Yc^2 / 1e9) + B0 * exp(-Xc^2 / 1e9 - (Yc - ly / 8) * (Yc - ly / 8) / 1e10)\n",
    "@. ELA = 2150 + 900 * atan(Yc / ly)"
   ]
  },
  {
   "cell_type": "markdown",
   "metadata": {},
   "source": [
    "### Pre-processing and array initialisation"
   ]
  },
  {
   "cell_type": "code",
   "execution_count": null,
   "metadata": {},
   "outputs": [],
   "source": [
    "# initialise\n",
    "S      = zeros(nx  , ny  )\n",
    "dSdx   = zeros(nx-1, ny  )\n",
    "dSdy   = zeros(nx  , ny-1)\n",
    "Snorm  = zeros(nx-1, ny-1)\n",
    "D      = zeros(nx-1, ny-1)\n",
    "qx     = zeros(nx-1, ny-2)\n",
    "qy     = zeros(nx-2, ny-1)\n",
    "H      = zeros(nx  , ny  )\n",
    "M      = zeros(nx  , ny  )\n",
    "H0     = zeros(nx  , ny  )"
   ]
  },
  {
   "cell_type": "markdown",
   "metadata": {},
   "source": [
    "### Helper function definition"
   ]
  },
  {
   "cell_type": "code",
   "execution_count": null,
   "metadata": {},
   "outputs": [],
   "source": [
    "# averaging\n",
    "@views av(A) = 0.25 .* (A[1:end-1, 1:end-1] .+ A[1:end-1, 2:end] .+ A[2:end, 1:end-1] .+ A[2:end, 2:end])\n",
    "@views avx(A) = 0.5 .* (A[1:end-1, :] .+ A[2:end, :])\n",
    "@views avy(A) = 0.5 .* (A[:, 1:end-1] .+ A[:, 2:end])\n",
    "# Compute the effective nonlinear diffusion coefficient `D` for SIA model.\n",
    "@views function compute_D!(D, H, S, dSdx, dSdy, Snorm, a1, a2, dx, dy)\n",
    "    dSdx  .= diff(S, dims=1) ./ dx\n",
    "    dSdy  .= diff(S, dims=2) ./ dy\n",
    "    Snorm .= ((avy(dSdx) .^ 2) .+ (avx(dSdy) .^ 2)) .^ 0.5\n",
    "    D     .= ((a1 .* av(H) .^ 5) .+ (a2 .* av(H) .^ 3)) .* Snorm .^ 2\n",
    "    return\n",
    "end"
   ]
  },
  {
   "cell_type": "markdown",
   "metadata": {},
   "source": [
    "### Time loop - action"
   ]
  },
  {
   "cell_type": "code",
   "execution_count": null,
   "metadata": {},
   "outputs": [],
   "source": [
    "# time loop\n",
    "for it = 1:nt\n",
    "    H0 .= H\n",
    "    S  .= B .+ H\n",
    "    M  .= min.(β .* (S .- ELA), c)\n",
    "    compute_D!(D, H, S, dSdx, dSdy, Snorm, a1, a2, dx, dy)\n",
    "    qx .= avy(D) .* diff(S[:, 2:end-1], dims=1) ./ dx\n",
    "    qy .= avx(D) .* diff(S[2:end-1, :], dims=2) ./ dy\n",
    "    H[2:end-1, 2:end-1] .= max.(H[2:end-1, 2:end-1] .+ dt .* (diff(qx, dims=1) + diff(qy, dims=2) + M[2:end-1, 2:end-1]), 0.0)\n",
    "    if mod(it, nout) == 0\n",
    "        # error checking\n",
    "        err = maximum(abs.(H .- H0))\n",
    "        @printf(\"it = %d, err = %1.3e \\n\", it, err)\n",
    "        (err < ϵ) && break\n",
    "    end\n",
    "end"
   ]
  },
  {
   "cell_type": "markdown",
   "metadata": {},
   "source": [
    "### Post-processing"
   ]
  },
  {
   "cell_type": "code",
   "execution_count": null,
   "metadata": {},
   "outputs": [],
   "source": [
    "# Visualise bedrock and ice elevation using GLMakie.\n",
    "S_v = fill(NaN, size(S))\n",
    "S_v .= S; S_v[H .<= 0.01] .= NaN\n",
    "fig = Figure(; size=(1000, 450), fontsize=20)\n",
    "axs = Axis3(fig[1, 1][1, 1]; xlabel=\"x [km]\", ylabel=\"y [km]\", zlabel=\"elevation [m]\", zlabeloffset = 70, aspect=(4, 4, 1), azimuth=pi / 4)\n",
    "plt = (p1=surface!(axs, xc ./ 1e3, yc ./ 1e3, B, colormap=Reverse(:cork)),\n",
    "       p2=surface!(axs, xc ./ 1e3, yc ./ 1e3, S_v, colormap=:davos),\n",
    ")\n",
    "subgrid = GridLayout(fig[1, 1][1, 2], tellheight=false)\n",
    "Label(subgrid[1, 1], \"H ice [m]\")\n",
    "Colorbar(subgrid[2, 1], plt.p2; halign=:center)\n",
    "resize_to_layout!(fig)\n",
    "display(fig)"
   ]
  }
 ],
 "metadata": {
  "kernelspec": {
   "display_name": "Julia 1.10.1",
   "language": "julia",
   "name": "julia-1.10"
  },
  "language_info": {
   "file_extension": ".jl",
   "mimetype": "application/julia",
   "name": "julia",
   "version": "1.10.1"
  }
 },
 "nbformat": 4,
 "nbformat_minor": 2
}
