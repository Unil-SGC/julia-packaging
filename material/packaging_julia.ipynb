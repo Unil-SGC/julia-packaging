{
 "cells": [
  {
   "cell_type": "markdown",
   "source": [
    "# Julia packaging\n",
    "\n",
    "<br>\n",
    "</br>\n",
    "\n",
    "<center><img src=\"assets/Julia_logo.png\" width=\"300\" style=\"border:0\">\n",
    "        <img src=\"assets/Pkg_logo.png\" width=\"200\" style=\"border:0\" \\n\\n></center>\n",
    "\n",
    "<br>\n",
    "</br>\n",
    "\n",
    "<center> Ludovic Räss - University of Lausanne </center>"
   ],
   "metadata": {
    "name": "A slide ",
    "slideshow": {
     "slide_type": "slide"
    }
   }
  },
  {
   "cell_type": "markdown",
   "source": [
    "## Contents\n",
    "\n",
    "1. Why and when to create a Julia package\n",
    "\n",
    "2. From Julia Jupyter Notebooks to Julia scripts\n",
    "\n",
    "3. From Julia script to Julia package\n",
    "    - Difference between scritps, package (with/out modules)\n",
    "    - Julia project files structure\n",
    "        - `.toml` files, structure\n",
    "\n",
    "4. Share your package\n",
    "    - Publish your package on GitHub"
   ],
   "metadata": {
    "name": "A slide ",
    "slideshow": {
     "slide_type": "slide"
    }
   }
  },
  {
   "cell_type": "markdown",
   "source": [
    "## Prior to package your code\n",
    "\n",
    "1. Does it make sense to package your code?\n",
    "2. Is your code high quality enough?\n",
    "3. Should data be included or accessible out of the code?"
   ],
   "metadata": {
    "name": "A slide ",
    "slideshow": {
     "slide_type": "slide"
    }
   }
  },
  {
   "cell_type": "markdown",
   "source": [
    "### Prerequisites\n",
    "\n",
    "You must have:\n",
    "1. [Julia (Juliaup)](https://github.com/JuliaLang/juliaup), [VSCode](https://code.visualstudio.com/) and Julialang VSCode extension installed on your laptop (see the main repo README for _how-to_)\n",
    "\n",
    "2. An account on [GitHub](https://github.com)"
   ],
   "metadata": {
    "name": "A slide ",
    "slideshow": {
     "slide_type": "slide"
    }
   }
  },
  {
   "cell_type": "markdown",
   "source": [
    "## From Julia Jupyter notebooks to Julia scripts\n",
    "\n",
    "1. What criticisms can you make on [this ice flow visualization code (visualize_iceflow_1.ipynb)](visualize_iceflow_1.ipynb)?"
   ],
   "metadata": {
    "name": "A slide ",
    "slideshow": {
     "slide_type": "slide"
    }
   }
  },
  {
   "cell_type": "markdown",
   "source": [
    "## From Julia Jupyter notebooks to Julia scripts\n",
    "\n",
    "1. What criticisms can you make on [this ice flow visualization code](visualize_iceflow_1.ipynb)?\n",
    "    - variables name,\n",
    "    - split into functions,\n",
    "    - syntax considerations,\n",
    "    - comments & documentation,\n",
    "    - avoid code not adapted to all OS (path example),\n",
    "\n",
    "    → Code after improvement [here (visualize_iceflow_2.ipynb)](visualize_iceflow_2.ipynb)"
   ],
   "metadata": {
    "name": "A slide ",
    "slideshow": {
     "slide_type": "slide"
    }
   }
  },
  {
   "cell_type": "markdown",
   "source": [
    "2. Split into functions/structures\n",
    "\n",
    "    → Code after improvement [here (visualize_iceflow_3.ipynb)](visualize_iceflow_3.ipynb)"
   ],
   "metadata": {
    "name": "A slide ",
    "slideshow": {
     "slide_type": "fragment"
    }
   }
  },
  {
   "cell_type": "markdown",
   "source": [
    "## From Julia Jupyter Notebooks to Julia scripts\n",
    "\n",
    "3. Create a Julia script from the Julia jupyter notebook\n",
    "    - `jupyter nbconvert --to script visualize_iceflow_3.ipynb`\n",
    "    - → code [here](visualize_iceflow_3.jl)\n",
    "<br>\n",
    "</br>\n",
    "4. Clean Julia script\n",
    "    - use one of the Julia formatters\n",
    "        - [JuliaFormatter](https://domluna.github.io/JuliaFormatter.jl/stable/) (from [within VSCode](https://www.julia-vscode.org/docs/stable/userguide/formatter/))\n",
    "    - take care about style, variable names, alignment, etc..."
   ],
   "metadata": {
    "name": "A slide ",
    "slideshow": {
     "slide_type": "slide"
    }
   }
  },
  {
   "cell_type": "markdown",
   "source": [
    "## From Julia script to Julia package\n",
    "\n",
    "- Difference between scritps, package (with/out modules)\n",
    "- Julia project files: `.toml`"
   ],
   "metadata": {
    "name": "A slide ",
    "slideshow": {
     "slide_type": "slide"
    }
   }
  },
  {
   "cell_type": "markdown",
   "source": [
    "## Step 1: Create your package structure using [`PkgTemplates.jl`](https://juliaci.github.io/PkgTemplates.jl/stable/)\n",
    "\n",
    "- Choose a package name, here `IceFlow.jl`\n",
    "\n",
    "Using [`PkgTemplates.jl`](https://juliaci.github.io/PkgTemplates.jl/stable/):"
   ],
   "metadata": {
    "name": "A slide ",
    "slideshow": {
     "slide_type": "slide"
    }
   }
  },
  {
   "outputs": [],
   "cell_type": "code",
   "source": [
    "julia> using Pkg; Pkg.add(\"PkgTemplates\")"
   ],
   "metadata": {},
   "execution_count": null
  },
  {
   "cell_type": "markdown",
   "source": [
    "Interactive Generation:"
   ],
   "metadata": {}
  },
  {
   "outputs": [],
   "cell_type": "code",
   "source": [
    "using PkgTemplates\n",
    "Template(interactive=true)(\"IceFlow.jl\")"
   ],
   "metadata": {},
   "execution_count": null
  },
  {
   "cell_type": "markdown",
   "source": [
    "Set `user`, `dir` and `host`:"
   ],
   "metadata": {
    "name": "A slide ",
    "slideshow": {
     "slide_type": "slide"
    }
   }
  },
  {
   "outputs": [],
   "cell_type": "code",
   "source": [
    "julia> Template(interactive=true)(\"IceFlow.jl\")\n",
    "Template keywords to customize:\n",
    "[press: Enter=toggle, a=all, n=none, d=done, q=abort]\n",
    " > [X] user (\"\")\n",
    "   [ ] authors (\"Ludovic Raess <ludovic.rass@gmail.com> and contributors\")\n",
    "   [X] dir (\"~/.julia/dev\")\n",
    "   [X] host (\"github.com\")\n",
    "   [ ] julia (v\"1.0.0\")\n",
    "   [ ] plugins (PkgTemplates.Plugin[])"
   ],
   "metadata": {},
   "execution_count": null
  },
  {
   "cell_type": "markdown",
   "source": [
    "After pressing `d`, you will be able to provide a value for those setting.\n",
    "\n",
    "⚠ `user` should match your GitHub username!"
   ],
   "metadata": {}
  },
  {
   "cell_type": "markdown",
   "source": [
    "Let's examine what file and directory structure we created:\n",
    "- `src` and `test` dirs\n",
    "- README and LICENSE\n",
    "- `.toml` files\n",
    "- `.git`, `.gitignore` and `.github` \"hidden\" files\n",
    "\n",
    "💡 Delete the `.github` file (or rename it) if you don't want to enable CI/CD on GitHub Actions."
   ],
   "metadata": {
    "name": "A slide ",
    "slideshow": {
     "slide_type": "slide"
    }
   }
  },
  {
   "cell_type": "markdown",
   "source": [
    "## Step 2: Split the Julia script into modules\n",
    "\n",
    "- Make judicious choices: functions exclusively used in the package versus functions exposed to users.\n",
    "\n",
    "→ Let's have a look at the proposed package structure for `IceFlow.jl` in the provided package draft [`../IceFlow.jl`](../IceFlow.jl)"
   ],
   "metadata": {
    "name": "A slide ",
    "slideshow": {
     "slide_type": "slide"
    }
   }
  },
  {
   "cell_type": "markdown",
   "source": [
    "Structure:\n",
    "    - specific files for data, solver and utilities\n",
    "    - main IceFlow module\n",
    "    - export functions, include files, define package-wide `const`"
   ],
   "metadata": {
    "name": "A slide ",
    "slideshow": {
     "slide_type": "slide"
    }
   }
  },
  {
   "cell_type": "markdown",
   "source": [
    "## Step 3: Documentation and Tests\n",
    "\n",
    "### Documentation:\n",
    "- In-code documentation\n",
    "    - Docstrings\n",
    "    - functions, modules, code\n",
    "    - Can be accessed from REPL `?`\n",
    "\n",
    "- Package documentation\n",
    "    - README\n",
    "    - How to use the package\n",
    "    - Advanced: using [Documenter.jl](https://documenter.juliadocs.org/stable/) to create online doc (read-the-doc style)"
   ],
   "metadata": {
    "name": "A slide ",
    "slideshow": {
     "slide_type": "slide"
    }
   }
  },
  {
   "cell_type": "markdown",
   "source": [
    "### Tests:\n",
    "\n",
    "Julia offers great native testing framework:\n",
    "- `test` folder with dedicated `Project.toml`\n",
    "- `runtests.jl` file to include `@test` grouped in `@testset`\n",
    "- Can be executed from the REPL locally: `using Pkg; Pkg.test()`\n",
    "- Advanced: Can be executed in CI/CD pipelines"
   ],
   "metadata": {
    "name": "A slide ",
    "slideshow": {
     "slide_type": "slide"
    }
   }
  },
  {
   "cell_type": "markdown",
   "source": [
    "## Step 4: Project files\n",
    "\n",
    "- Review and complete the `Project.toml` file\n",
    "- Make sure to add `Manifest.toml` (and `.DS_Store` for macOS users) to the `.gitignore`"
   ],
   "metadata": {
    "name": "A slide ",
    "slideshow": {
     "slide_type": "slide"
    }
   }
  },
  {
   "cell_type": "markdown",
   "source": [
    "## Step 5: Publish your package on GitHub\n",
    "\n",
    "1. Create a new GitHub repository with the exact same name of your package: `IceFlow.jl`\n",
    "2. Locally, in the root of your package directory: `git add remote add origin <address of the new repository>`\n",
    "3. Push code on remote GitHub server: `git push -u origin main`"
   ],
   "metadata": {
    "name": "A slide ",
    "slideshow": {
     "slide_type": "slide"
    }
   }
  },
  {
   "cell_type": "markdown",
   "source": [
    "## Step 6: (Advanced) register your package in the Julia Registry\n",
    "\n",
    "Upon doing so and passing the checks, IceFlow.jl could then be installed by anyone upon typing\n",
    "\n",
    "```julia-repl\n",
    "julia> ]\n",
    "\n",
    "(@v1.10) pkg> add IceFlow\n",
    "```\n",
    "\n",
    "More infos here [https://julialang.org/contribute/developing_package/#step_5_register_your_package](https://julialang.org/contribute/developing_package/#step_5_register_your_package)"
   ],
   "metadata": {
    "name": "A slide ",
    "slideshow": {
     "slide_type": "slide"
    }
   }
  },
  {
   "cell_type": "markdown",
   "source": [
    "## Any questions?\n",
    "\n",
    "<br>\n",
    "</br>\n",
    "<br>\n",
    "</br>\n",
    "\n",
    "<center><img src=\"assets/SGC_unilogo_bleu_300dpi.png\" width=\"250\" style=\"border:0\"></center>\n",
    "\n",
    "<br>\n",
    "</br>\n",
    "<br>\n",
    "</br>\n",
    "\n",
    "<center>Swiss Geocomputing Centre</center>"
   ],
   "metadata": {
    "name": "A slide ",
    "slideshow": {
     "slide_type": "slide"
    }
   }
  }
 ],
 "nbformat_minor": 3,
 "metadata": {
  "language_info": {
   "file_extension": ".jl",
   "mimetype": "application/julia",
   "name": "julia",
   "version": "1.10.1"
  },
  "kernelspec": {
   "name": "julia-1.10",
   "display_name": "Julia 1.10.1",
   "language": "julia"
  }
 },
 "nbformat": 4
}
