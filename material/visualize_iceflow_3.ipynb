{
 "cells": [
  {
   "cell_type": "markdown",
   "metadata": {},
   "source": [
    "# Iceflow solver\n",
    "\n",
    "### Set up Julia environment"
   ]
  },
  {
   "cell_type": "code",
   "execution_count": null,
   "metadata": {},
   "outputs": [],
   "source": [
    "using Printf, UnPack\n",
    "using GLMakie\n",
    "Makie.inline!(true);\n",
    "\n",
    "# constants\n",
    "const s2yr = 31557600     # seconds to years\n",
    "const ρg   = 910.0 * 9.81 # ice density x gravity"
   ]
  },
  {
   "cell_type": "markdown",
   "metadata": {},
   "source": [
    "### Use structures to store `Grid` and `Data` information\n",
    "First, for `Grid` where we can define a `Grid` function to construct the structure.\n",
    "\n",
    ":bulb: Note that we hardcode in there `lx` and `ly` as those are considered as our data we do not want to change."
   ]
  },
  {
   "cell_type": "code",
   "execution_count": null,
   "metadata": {},
   "outputs": [],
   "source": [
    "struct Grid\n",
    "    lx::Float64  # Length in x-direction\n",
    "    ly::Float64  # Length in y-direction\n",
    "    dx::Float64  # Grid spacing in x-direction\n",
    "    dy::Float64  # Grid spacing in y-direction\n",
    "    xc::Vector{Float64}  # x-coordinates of grid cell centers\n",
    "    yc::Vector{Float64}  # y-coordinates of grid cell centers\n",
    "    Xc::Matrix{Float64}  # Matrix of x-coordinates for grid centers\n",
    "    Yc::Matrix{Float64}  # Matrix of y-coordinates for grid centers\n",
    "end\n",
    "\n",
    "function Grid(nx::Int, ny::Int)\n",
    "    @assert nx > 0 && ny > 0 \"Number of grid cells must be positive\"\n",
    "\n",
    "    lx, ly = 250000.0, 200000.0  # domain size [m]\n",
    "    dx, dy = lx / nx, ly / ny\n",
    "    xc = LinRange(-lx / 2 + dx / 2, lx / 2 - dx / 2, nx)\n",
    "    yc = LinRange(-ly / 2 + dy / 2, ly / 2 - dy / 2, ny)\n",
    "    Xc, Yc = [x for x = xc, _ = yc], [y for _ = xc, y = yc]\n",
    "    Grid(lx, ly, dx, dy, xc, yc, Xc, Yc)\n",
    "end"
   ]
  },
  {
   "cell_type": "markdown",
   "metadata": {},
   "source": [
    "Then for Data, where we can construct bedrock elevation `B` and equilibrium line altitude `ELA` using helper functions"
   ]
  },
  {
   "cell_type": "code",
   "execution_count": null,
   "metadata": {},
   "outputs": [],
   "source": [
    "struct Data{T <: Real, G}\n",
    "    β::T         # mass-balance slope\n",
    "    c::T         # mass-balance limiter\n",
    "    a1::T        # ice flow param 1\n",
    "    a2::T        # ice flow param 2\n",
    "    B::G         # Bedrock elevation\n",
    "    ELA::G       # Equilibrium line altitude\n",
    "    function Data(β::T, c::T, a1::T, a2::T, grid) where {T}\n",
    "        B0  = 3500.0                          # mean height\n",
    "        B   = bedrock_elevation(B0, grid)     # Bedrock - Assuming this returns type G\n",
    "        ELA = equilibrium_line_altitude(grid) # ELA - Assuming this returns type G\n",
    "        new{T, typeof(B)}(β, c, a1, a2, B, ELA)\n",
    "    end\n",
    "end\n",
    "\n",
    "\"Compute the bedrock elevation.\"\n",
    "@inline function bedrock_elevation(B0, grid)\n",
    "    return @. B0 * exp(-grid.Xc^2 / 1e10 - grid.Yc^2 / 1e9) +\n",
    "              B0 * exp(-grid.Xc^2 / 1e9 - (grid.Yc - grid.ly / 8) * (grid.Yc - grid.ly / 8) / 1e10)\n",
    "end\n",
    "\n",
    "\"Compute the equilibrium line altitude ELA.\"\n",
    "equilibrium_line_altitude(grid) = @. 2150 + 900 * atan(grid.Yc / grid.ly)"
   ]
  },
  {
   "cell_type": "markdown",
   "metadata": {},
   "source": [
    "### Regroup helper functions\n",
    "Averaging and computing effective diffusion coefficient `D`."
   ]
  },
  {
   "cell_type": "code",
   "execution_count": null,
   "metadata": {},
   "outputs": [],
   "source": [
    "\"Compute the average of `A` in `x` and `y` dimension.\"\n",
    "@views av(A) = 0.25 .* (A[1:end-1, 1:end-1] .+ A[1:end-1, 2:end] .+ A[2:end, 1:end-1] .+ A[2:end, 2:end])\n",
    "\n",
    "\"Compute the average of `A` in `x` dimension.\"\n",
    "@views avx(A) = 0.5 .* (A[1:end-1, :] .+ A[2:end, :])\n",
    "\n",
    "\"Compute the average of `A` in `y` dimension.\"\n",
    "@views avy(A) = 0.5 .* (A[:, 1:end-1] .+ A[:, 2:end])\n",
    "\n",
    "\"Compute the effective nonlinear diffusion coefficient `D` for SIA model.\"\n",
    "@views function compute_D!(D, H, S, dSdx, dSdy, Snorm, a1, a2, dx, dy)\n",
    "    dSdx  .= diff(S, dims=1) ./ dx\n",
    "    dSdy  .= diff(S, dims=2) ./ dy\n",
    "    Snorm .= ((avy(dSdx) .^ 2) .+ (avx(dSdy) .^ 2)) .^ 0.5\n",
    "    D     .= ((a1 .* av(H) .^ 5) .+ (a2 .* av(H) .^ 3)) .* Snorm .^ 2\n",
    "    return\n",
    "end"
   ]
  },
  {
   "cell_type": "markdown",
   "metadata": {},
   "source": [
    "Update the input parameters for visualisation function, and get `xc` and `yc` from the `grid` (as `grid.xc`, ...)"
   ]
  },
  {
   "cell_type": "code",
   "execution_count": null,
   "metadata": {},
   "outputs": [],
   "source": [
    "@views function visualise(S, H, B, grid)\n",
    "    S_v = fill(NaN, size(S))\n",
    "    S_v .= S; S_v[H .<= 0.01] .= NaN\n",
    "    fig = Figure(; size=(1000, 450), fontsize=20)\n",
    "    axs = Axis3(fig[1, 1][1, 1]; xlabel=\"x [km]\", ylabel=\"y [km]\", zlabel=\"elevation [m]\", zlabeloffset = 70, aspect=(4, 4, 1), azimuth=pi / 4)\n",
    "    plt = (p1=surface!(axs, grid.xc ./ 1e3, grid.yc ./ 1e3, B, colormap=Reverse(:cork)),\n",
    "           p2=surface!(axs, grid.xc ./ 1e3, grid.yc ./ 1e3, S_v, colormap=:davos),\n",
    "    )\n",
    "    subgrid = GridLayout(fig[1, 1][1, 2], tellheight=false)\n",
    "    Label(subgrid[1, 1], \"H ice [m]\")\n",
    "    Colorbar(subgrid[2, 1], plt.p2; halign=:center)\n",
    "    resize_to_layout!(fig)\n",
    "    return display(fig)\n",
    "end"
   ]
  },
  {
   "cell_type": "markdown",
   "metadata": {},
   "source": [
    "### Update the solver function\n",
    "Now, we can pass the `data`, `grid` and `params` objects:\n",
    "- `data` is a structure containing the ice flow \"data\"\n",
    "- `grid` is a structure containing the numerical grid \"data\"\n",
    "- `nt, dt, nout, ϵ` are the numerical parameters for the solver\n",
    "\n",
    "The solver returns now also an updated list of arguments to match the input arguments of the visualisation function."
   ]
  },
  {
   "cell_type": "code",
   "execution_count": null,
   "metadata": {},
   "outputs": [],
   "source": [
    "@views function solver(data, grid, nt, dt, nout, ϵ)\n",
    "    @unpack β, c, a1, a2, B, ELA = data\n",
    "    dx, dy = grid.dx, grid.dy\n",
    "    nx, ny = size(B)\n",
    "    # initialise\n",
    "    S      = zeros(nx  , ny  )\n",
    "    dSdx   = zeros(nx-1, ny  )\n",
    "    dSdy   = zeros(nx  , ny-1)\n",
    "    Snorm  = zeros(nx-1, ny-1)\n",
    "    D      = zeros(nx-1, ny-1)\n",
    "    qx     = zeros(nx-1, ny-2)\n",
    "    qy     = zeros(nx-2, ny-1)\n",
    "    H      = zeros(nx  , ny  )\n",
    "    M      = zeros(nx  , ny  )\n",
    "    H0     = zeros(nx  , ny  )\n",
    "    # time loop\n",
    "    for it = 1:nt\n",
    "        H0 .= H\n",
    "        S  .= B .+ H\n",
    "        M  .= min.(β .* (S .- ELA), c)\n",
    "        compute_D!(D, H, S, dSdx, dSdy, Snorm, a1, a2, dx, dy)\n",
    "        qx .= avy(D) .* diff(S[:, 2:end-1], dims=1) ./ dx\n",
    "        qy .= avx(D) .* diff(S[2:end-1, :], dims=2) ./ dy\n",
    "        H[2:end-1, 2:end-1] .= max.(H[2:end-1, 2:end-1] .+ dt .* (diff(qx, dims=1) + diff(qy, dims=2) + M[2:end-1, 2:end-1]), 0.0)\n",
    "        if mod(it, nout) == 0\n",
    "            # error checking\n",
    "            err = maximum(abs.(H .- H0))\n",
    "            @printf(\"it = %d, err = %1.3e \\n\", it, err)\n",
    "            (err < ϵ) && break\n",
    "        end\n",
    "    end\n",
    "    return (S, H, B, grid)\n",
    "end"
   ]
  },
  {
   "cell_type": "markdown",
   "metadata": {},
   "source": [
    "### Run the code\n",
    "Define physics and numerics input params, build the grid and data, run the solver and visualise the output:"
   ]
  },
  {
   "cell_type": "code",
   "execution_count": null,
   "metadata": {},
   "outputs": [],
   "source": [
    "function main()\n",
    "    # physics\n",
    "    β      = 0.01                  # mass-balance slope\n",
    "    c      = 2.0                   # mass-balance limiter\n",
    "    a1     = 1.9e-24 * ρg^3 * s2yr # ice flow parameter\n",
    "    a2     = 5.7e-20 * ρg^3 * s2yr # ice flow parameter\n",
    "    # numerics\n",
    "    resol  = 256\n",
    "    nt     = 1e4                 # number of time steps\n",
    "    dt     = 0.1                 # time step [yr]\n",
    "    nout   = 1e3                 # visu and error checking interval\n",
    "    ϵ      = 1e-4                # steady state tolerance\n",
    "    grid   = Grid(resol, resol)\n",
    "    data   = Data(β, c, a1, a2, grid)\n",
    "    # run and visualise the results\n",
    "    visualise(solver(data, grid, nt, dt, nout, ϵ)...)\n",
    "    return\n",
    "end"
   ]
  },
  {
   "cell_type": "code",
   "execution_count": null,
   "metadata": {},
   "outputs": [],
   "source": [
    "main()"
   ]
  },
  {
   "cell_type": "code",
   "execution_count": null,
   "metadata": {},
   "outputs": [],
   "source": []
  }
 ],
 "metadata": {
  "kernelspec": {
   "display_name": "Julia 1.10.1",
   "language": "julia",
   "name": "julia-1.10"
  },
  "language_info": {
   "file_extension": ".jl",
   "mimetype": "application/julia",
   "name": "julia",
   "version": "1.10.1"
  }
 },
 "nbformat": 4,
 "nbformat_minor": 2
}
